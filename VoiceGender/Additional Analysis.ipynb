{
 "cells": [
  {
   "cell_type": "code",
   "execution_count": 13,
   "id": "f502c1a9",
   "metadata": {
    "ExecuteTime": {
     "end_time": "2022-05-04T18:36:54.371885Z",
     "start_time": "2022-05-04T18:36:54.364494Z"
    }
   },
   "outputs": [],
   "source": [
    "import os\n",
    "import _pickle as cPickle\n",
    "import numpy as np\n",
    "from scipy.io.wavfile import read\n",
    "import python_speech_features as mfcc\n",
    "from sklearn import preprocessing\n",
    "import warnings\n",
    "warnings.filterwarnings(\"ignore\")\n",
    "import python_speech_features as mfcc\n",
    "from sklearn import mixture\n",
    "import time"
   ]
  },
  {
   "cell_type": "code",
   "execution_count": 25,
   "id": "f97974ee",
   "metadata": {
    "ExecuteTime": {
     "end_time": "2022-05-04T19:27:43.757910Z",
     "start_time": "2022-05-04T19:27:43.726704Z"
    }
   },
   "outputs": [],
   "source": [
    " class MFCC:\n",
    "        def __init__(self, audio, sample_rate=16000):\n",
    "            self.audio = audio\n",
    "            self.sr = sample_rate\n",
    "            \n",
    "        def get_features(self):\n",
    "            features = mfcc.mfcc(self.audio, self.sr, 0.025, 0.01, 13,appendEnergy = False)\n",
    "            feat = np.asarray(())\n",
    "            for i in range(features.shape[0]):\n",
    "                temp = features[i,:]\n",
    "                if np.isnan(np.min(temp)):\n",
    "                    continue\n",
    "                else:\n",
    "                    if feat.size == 0:\n",
    "                        feat = temp\n",
    "                    else:\n",
    "                        feat = np.vstack((feat, temp))\n",
    "            features = feat;\n",
    "            features = preprocessing.scale(features)\n",
    "            return features\n",
    "        \n",
    "        def get_combined_features(self):\n",
    "            features = mfcc.mfcc(self.audio, self.sr, 0.025, 0.01, 20,appendEnergy = False)\n",
    "            mfcc_feat = preprocessing.scale(features)\n",
    "            delta = self.calculate_delta(mfcc_feat)\n",
    "            combined = np.hstack((mfcc_feat,delta)) \n",
    "            return combined\n",
    "        \n",
    "        def calculate_delta(self, array):\n",
    "            \"\"\"Calculate and returns the delta of given feature vector matrix\"\"\"\n",
    "\n",
    "            rows,cols = array.shape\n",
    "            deltas = np.zeros((rows,20))\n",
    "            N = 2\n",
    "            for i in range(rows):\n",
    "                index = []\n",
    "                j = 1\n",
    "                while j <= N:\n",
    "                    if i-j < 0:\n",
    "                        first = 0\n",
    "                    else:\n",
    "                        first = i-j\n",
    "                    if i+j > rows -1:\n",
    "                        second = rows -1\n",
    "                    else:\n",
    "                        second = i+j\n",
    "                    index.append((second,first))\n",
    "                    j+=1\n",
    "                deltas[i] = (array[index[0][0]]-array[index[0][1]] + (2 * (array[index[1][0]]-array[index[1][1]]))) / 10\n",
    "            return deltas"
   ]
  },
  {
   "cell_type": "code",
   "execution_count": 26,
   "id": "e80ada81",
   "metadata": {
    "ExecuteTime": {
     "end_time": "2022-05-04T19:27:44.067962Z",
     "start_time": "2022-05-04T19:27:44.052701Z"
    }
   },
   "outputs": [],
   "source": [
    "class Gender_Classification:\n",
    "    \n",
    "    def __init__(self, sample_rate=16000):\n",
    "        modelpath  = \".\\\\pygender\\\\\"\n",
    "        self.sr = sample_rate\n",
    "        gmm_files = [os.path.join(modelpath,fname) for fname in os.listdir(modelpath) if fname.endswith('.gmm')]\n",
    "        self.models = [cPickle.load(open(fname,'rb')) for fname in gmm_files]\n",
    "        self.genders = [fname.split(\"\\\\\")[-1].split(\".gmm\")[0] for fname in gmm_files]\n",
    "\n",
    "    def classify(self, audio):\n",
    "        features = MFCC(audio, self.sr).get_features()\n",
    "        scores = None\n",
    "        log_likelihood = np.zeros(len(self.models))\n",
    "        for i in range(len(self.models)):\n",
    "            gmm = self.models[i]         #checking with each model one by one\n",
    "            scores = np.array(gmm.score(features))\n",
    "            log_likelihood[i] = scores.sum()\n",
    "        winner = np.argmax(log_likelihood)\n",
    "        return self.genders[winner]\n",
    "        "
   ]
  },
  {
   "cell_type": "code",
   "execution_count": 27,
   "id": "6e91860d",
   "metadata": {
    "ExecuteTime": {
     "end_time": "2022-05-04T19:27:44.437457Z",
     "start_time": "2022-05-04T19:27:44.421773Z"
    }
   },
   "outputs": [],
   "source": [
    "class Speaker_Identification:\n",
    "    \n",
    "    def __init__(self, sample_rate=16000):\n",
    "        self.sr = sample_rate\n",
    "        self.model_path = modelpath = r\".\\speaker_models\\\\\"\n",
    "        gmm_files = [os.path.join(modelpath,fname) for fname in os.listdir(modelpath) if fname.endswith('.gmm')]\n",
    "        self.models    = [cPickle.load(open(fname,'rb')) for fname in gmm_files]\n",
    "        self.speakers   = [fname.split(\"\\\\\")[-1].split(\".gmm\")[0] for fname in gmm_files]\n",
    "    \n",
    "    def identify(self, audio):\n",
    "        vector = MFCC(audio,self.sr).get_combined_features()\n",
    "        log_likelihood = np.zeros(len(self.models)) \n",
    "        for i in range(len(self.models)):\n",
    "            gmm = self.models[i]         #checking with each model one by one\n",
    "            scores = np.array(gmm.score(vector))\n",
    "            log_likelihood[i] = scores.sum()\n",
    "        if(max(log_likelihood) > -24.50):\n",
    "            winner = np.argmax(log_likelihood)\n",
    "            return self.speakers[winner]\n",
    "        else:\n",
    "            return \"Speaker undetected\""
   ]
  },
  {
   "cell_type": "code",
   "execution_count": 29,
   "id": "c20b28ca",
   "metadata": {
    "ExecuteTime": {
     "end_time": "2022-05-04T19:28:19.669670Z",
     "start_time": "2022-05-04T19:28:19.572119Z"
    }
   },
   "outputs": [
    {
     "name": "stdout",
     "output_type": "stream",
     "text": [
      "Gender of the speaker: female\n",
      "Speaker's name: anthonyschaller\n"
     ]
    }
   ],
   "source": [
    "sr, audio  = read(r\".\\test_audio\\0bIb6Pjzk1g.wav\")\n",
    "gc = Gender_Classification(sr)\n",
    "yg = gc.classify(audio)\n",
    "print(\"Gender of the speaker:\", yg)\n",
    "\n",
    "sr, audio  = read(r\".\\test_audio\\anthonyschaller-20071221-\\a0491.wav\")\n",
    "si = Speaker_Identification(sr)\n",
    "yg = si.identify(audio)\n",
    "print(\"Speaker's name:\", yg)"
   ]
  },
  {
   "cell_type": "code",
   "execution_count": null,
   "id": "c1b44723",
   "metadata": {},
   "outputs": [],
   "source": []
  }
 ],
 "metadata": {
  "kernelspec": {
   "display_name": "Python 3 (ipykernel)",
   "language": "python",
   "name": "python3"
  },
  "language_info": {
   "codemirror_mode": {
    "name": "ipython",
    "version": 3
   },
   "file_extension": ".py",
   "mimetype": "text/x-python",
   "name": "python",
   "nbconvert_exporter": "python",
   "pygments_lexer": "ipython3",
   "version": "3.9.7"
  },
  "toc": {
   "base_numbering": 1,
   "nav_menu": {},
   "number_sections": true,
   "sideBar": true,
   "skip_h1_title": false,
   "title_cell": "Table of Contents",
   "title_sidebar": "Contents",
   "toc_cell": false,
   "toc_position": {},
   "toc_section_display": true,
   "toc_window_display": false
  },
  "varInspector": {
   "cols": {
    "lenName": 16,
    "lenType": 16,
    "lenVar": 40
   },
   "kernels_config": {
    "python": {
     "delete_cmd_postfix": "",
     "delete_cmd_prefix": "del ",
     "library": "var_list.py",
     "varRefreshCmd": "print(var_dic_list())"
    },
    "r": {
     "delete_cmd_postfix": ") ",
     "delete_cmd_prefix": "rm(",
     "library": "var_list.r",
     "varRefreshCmd": "cat(var_dic_list()) "
    }
   },
   "types_to_exclude": [
    "module",
    "function",
    "builtin_function_or_method",
    "instance",
    "_Feature"
   ],
   "window_display": false
  }
 },
 "nbformat": 4,
 "nbformat_minor": 5
}
