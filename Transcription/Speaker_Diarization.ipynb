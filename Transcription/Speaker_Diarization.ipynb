{
 "cells": [
  {
   "cell_type": "code",
   "execution_count": 17,
   "id": "f43178ad",
   "metadata": {
    "ExecuteTime": {
     "end_time": "2021-11-15T15:48:55.637631Z",
     "start_time": "2021-11-15T15:48:55.361105Z"
    }
   },
   "outputs": [],
   "source": [
    "import sys\n",
    "sys.path.append(\"E:\\College Stuff\\Semester 7\\Final Year Project\\Review 3\\Resemblyzer\")\n",
    "import os\n",
    "import math\n",
    "from resemblyzer import preprocess_wav, VoiceEncoder\n",
    "from pathlib import Path\n",
    "from spectralcluster import SpectralClusterer, constraint, RefinementOptions, ThresholdType, ICASSP2018_REFINEMENT_SEQUENCE, AutoTune, LaplacianType\n",
    "from pydub import AudioSegment\n",
    "import librosa\n",
    "import numpy as np\n",
    "import torch\n",
    "from transformers import Wav2Vec2Processor, Wav2Vec2ForCTC"
   ]
  },
  {
   "cell_type": "code",
   "execution_count": 18,
   "id": "a04a8aba",
   "metadata": {
    "ExecuteTime": {
     "end_time": "2021-11-15T15:49:27.086111Z",
     "start_time": "2021-11-15T15:48:55.639626Z"
    }
   },
   "outputs": [
    {
     "name": "stdout",
     "output_type": "stream",
     "text": [
      "Loaded the voice encoder model on cpu in 1.08 seconds.\n",
      "(1840, 256)\n"
     ]
    }
   ],
   "source": [
    "# give the file path to your audio file\n",
    "audio_file_path = \"E:\\College Stuff\\Semester 7\\Final Year Project\\Review 3\\sample4.wav\"\n",
    "wav_fpath = Path(audio_file_path)\n",
    "\n",
    "wav = preprocess_wav(wav_fpath)\n",
    "encoder = VoiceEncoder(\"cpu\")\n",
    "_, cont_embeds, wav_splits = encoder.embed_utterance(wav, return_partials=True, rate=16)\n",
    "print(cont_embeds.shape)\n",
    "\n",
    "audio = AudioSegment.from_file(wav_fpath)\n",
    "audio_length = audio.duration_seconds\n",
    "\n",
    "# refinement_options = RefinementOptions(\n",
    "#     gaussian_blur_sigma=1,\n",
    "#     p_percentile=0.95,\n",
    "#     thresholding_soft_multiplier=0.01,\n",
    "#     thresholding_type=ThresholdType.RowMax,\n",
    "#     refinement_sequence=ICASSP2018_REFINEMENT_SEQUENCE)\n",
    "\n",
    "# autotune = AutoTune(\n",
    "#     p_percentile_min=0.60,\n",
    "#     p_percentile_max=0.95,\n",
    "#     init_search_step=0.01,\n",
    "#     search_level=3)\n",
    "\n",
    "clusterer = SpectralClusterer(\n",
    "    min_clusters=2,\n",
    "    max_clusters=7)\n",
    "#     autotune=autotune,\n",
    "#     laplacian_type=LaplacianType.RandomWalk,\n",
    "#     refinement_options=refinement_options,\n",
    "#     custom_dist=\"cosine\")\n",
    "\n",
    "labels = clusterer.predict(cont_embeds)"
   ]
  },
  {
   "cell_type": "code",
   "execution_count": null,
   "id": "b84b7998",
   "metadata": {
    "ExecuteTime": {
     "end_time": "2021-11-15T15:49:27.362477Z",
     "start_time": "2021-11-15T15:49:27.138313Z"
    }
   },
   "outputs": [],
   "source": []
  },
  {
   "cell_type": "code",
   "execution_count": 20,
   "id": "2a1d0bda",
   "metadata": {
    "ExecuteTime": {
     "end_time": "2021-11-15T15:49:27.501324Z",
     "start_time": "2021-11-15T15:49:27.463292Z"
    }
   },
   "outputs": [],
   "source": [
    "def create_labelling(labels, wav_splits):\n",
    "    from resemblyzer import sampling_rate\n",
    "    times = [((s.start + s.stop) / 2) / sampling_rate for s in wav_splits]\n",
    "    labelling = []\n",
    "    start_time = 0\n",
    "    \n",
    "    for i,time in enumerate(times):\n",
    "        if i>0 and labels[i]!=labels[i-1]:\n",
    "            temp = [str(labels[i-1]),start_time,time]\n",
    "            labelling.append(tuple(temp))\n",
    "            start_time = time\n",
    "        if i==len(times)-1:\n",
    "            temp = [str(labels[i]),start_time,time]\n",
    "            labelling.append(tuple(temp))\n",
    "\n",
    "    return labelling"
   ]
  },
  {
   "cell_type": "code",
   "execution_count": 21,
   "id": "49beb159",
   "metadata": {
    "ExecuteTime": {
     "end_time": "2021-11-15T15:49:27.516317Z",
     "start_time": "2021-11-15T15:49:27.503320Z"
    }
   },
   "outputs": [
    {
     "name": "stdout",
     "output_type": "stream",
     "text": [
      "[('1', 0, 7.7), ('0', 7.7, 8.48), ('1', 8.48, 14.24), ('0', 14.24, 17.12), ('1', 17.12, 28.52), ('0', 28.52, 45.68), ('0', 45.74, 45.86), ('1', 45.86, 48.56), ('0', 48.56, 74.3), ('1', 74.3, 83.54), ('0', 83.54, 101.24), ('1', 101.24, 107.3), ('0', 107.3, 111.14), ('0', 111.14, 120)]\n"
     ]
    }
   ],
   "source": [
    "labelling = create_labelling(labels,wav_splits)\n",
    "\n",
    "for i in labelling:\n",
    "    if i[2] - i[1] < 0.7:\n",
    "        labelling.remove(i)\n",
    "\n",
    "labelling.append((str(labelling[-1][0]), labelling[-1][2], math.ceil(audio_length)))\n",
    "print(labelling)"
   ]
  },
  {
   "cell_type": "code",
   "execution_count": 22,
   "id": "2678b951",
   "metadata": {
    "ExecuteTime": {
     "end_time": "2021-11-15T15:50:18.430376Z",
     "start_time": "2021-11-15T15:49:27.519285Z"
    }
   },
   "outputs": [
    {
     "name": "stderr",
     "output_type": "stream",
     "text": [
      "Some weights of Wav2Vec2ForCTC were not initialized from the model checkpoint at facebook/wav2vec2-large-960h-lv60-self and are newly initialized: ['wav2vec2.masked_spec_embed']\n",
      "You should probably TRAIN this model on a down-stream task to be able to use it for predictions and inference.\n"
     ]
    }
   ],
   "source": [
    "processor = Wav2Vec2Processor.from_pretrained(\"facebook/wav2vec2-large-960h-lv60-self\")\n",
    "model = Wav2Vec2ForCTC.from_pretrained(\"facebook/wav2vec2-large-960h-lv60-self\")"
   ]
  },
  {
   "cell_type": "code",
   "execution_count": 23,
   "id": "02a3dfee",
   "metadata": {
    "ExecuteTime": {
     "end_time": "2021-11-15T15:50:18.660895Z",
     "start_time": "2021-11-15T15:50:18.431267Z"
    }
   },
   "outputs": [],
   "source": [
    "def transcribe(wav_fpath, start, duration):\n",
    "    input_audio, sample_rate = librosa.load(wav_fpath, sr=16000, offset = start ,duration = duration)\n",
    "    inputs = processor(input_audio, sampling_rate=sample_rate, return_tensors=\"pt\").input_values\n",
    "    logits = model(inputs).logits\n",
    "    predicted_ids = torch.argmax(logits, dim=-1)\n",
    "    return processor.batch_decode(predicted_ids)"
   ]
  },
  {
   "cell_type": "code",
   "execution_count": 24,
   "id": "f1ee37cc",
   "metadata": {
    "ExecuteTime": {
     "end_time": "2021-11-15T15:51:53.140998Z",
     "start_time": "2021-11-15T15:50:18.661680Z"
    }
   },
   "outputs": [
    {
     "data": {
      "text/plain": [
       "[['1',\n",
       "  'SO YOU ARE HERE WITH YOUR DAUGHTER WHO IS TWENTY ONE RIGHT AND YOU WERE TWENTY ONE WHEN YOU BECAME A MILLIONAIRE IS THAT RIGHT'],\n",
       " ['0', 'IS THAT RIGHT ALMOST'],\n",
       " ['1',\n",
       "  'ALMOST ALL RIGHT SOAROUND THAT AGE OU WO YOU WERE LIKE THE YOUNGEST PERSON TO BECOME A MILLIONAIRE IS THAT RIGHT'],\n",
       " ['0', 'TATRIGHT PRETI GOT IN TERMS OF MY OWN EARNING IT ON MY'],\n",
       " ['1',\n",
       "  'EARNING IT ON MY OWN YOW RIGHT O K SO WELL JITS THE MOST IMPORTANT THINGS E SO DID YOU WHEN YOU WERE A KID DID YOU'],\n",
       " ['1',\n",
       "  \"DID YOU CARE ABOUT MONEY OR YOU JUST CARED ABOUT TECHNOLOGY AND THAT'S IT JUST\"],\n",
       " ['0',\n",
       "  \"THAT'S IT JUST HAPPENED MOSTLY I LOVE SOFT WEAR I DO REMEMBER AT THE PRIVATE SCHOOL I WENT TO THER OTHER KIDS WHOSE FAMILIES\"],\n",
       " ['0',\n",
       "  \"WERE BETTER OFF LIKE THEY HAD A PORCH OR SOMETHING BUT IT WASN'T THAT THAT BIG OF A DEAL MY THING WAS THAT I JUST LOVED DOING SOFT WHERE I LOVED\"],\n",
       " ['0', 'TIRING PEOPLE AND I WAS'],\n",
       " ['0', 'AND I WAS'],\n",
       " ['1', 'AND I WAS STUNNED WHEN IT ENDED UP BEING SO VALUABLE'],\n",
       " ['0',\n",
       "  \"REALLY YA YOU LENT IT SURPRISED YOU YE BECAUSE I ALWAYS HAD TO BE CAREFUL THAT WE WOULDN'T HIRE\"],\n",
       " ['0',\n",
       "  \"MANY PEOPLE I WAS ALWAYS WORRIED CAUSE I WAS PEOPLE WHO WORKED FOR ME WERE OLDER THAN ME AND THEY HAD KIDS AND I O I THOUGHT WHAT IF WE DON'T GET PAID WILL I BE ABLE TO MEET\"],\n",
       " ['0',\n",
       "  'PAYROLL SO I WAS ALWAYS VERY CONSERVATIVE ABOUT THE FINANCES AND THEN WHEN WE DID GO A PUBLIC'],\n",
       " ['0', 'ASI THIRTY BY'],\n",
       " ['1',\n",
       "  'THIRTY BY THEN I THEN I WAS KIND OF STUNNED AT WHAT IT MULTIPLIED OUT TO RIGHT SO WHEN YOU BECAME A MILLION'],\n",
       " ['1', 'AT WHAT POINT DID YOU'],\n",
       " ['0',\n",
       "  'DID YOU START RELAXING WERE YOU STILL NERVOUS WHEN YOU BECAME A MILLIONAIRE LIKE I GOT O WATCH THIS I WELL I ALWAYS WANT TO HAVE ENOUGH MONEY'],\n",
       " ['0',\n",
       "  \"BANK SO THAT EVEN IF OUR CUSTOMERS SHOULDN'T PAY US FOR HERE WE COULD STILL AH KEEP PAINT EVERYBODY AND DO THE ARND SAY I STILL\"],\n",
       " ['0', 'VIEWED AS CONSERVATIVE A'],\n",
       " ['1',\n",
       "  \"YOU KNOW THERE I DON'T HAVE THAT MANY THINGS THAT ARE EXTRAVAGANT TASTES O I DIDN'T CHANGE\"],\n",
       " ['0',\n",
       "  \"DIDN'T CHANGE TOO MUCH SO NOTHING REALY CHANGED O YOU DIDN'T SAY OH I'M GOING TO BUY A PORTION\"],\n",
       " ['0',\n",
       "  'BY A PORTH I DID OH GORII OP THAT WAS THAT WAS AN INDULGENCE AND A THEN EVENTUALLY'],\n",
       " ['0', 'MY']]"
      ]
     },
     "execution_count": 24,
     "metadata": {},
     "output_type": "execute_result"
    }
   ],
   "source": [
    "Transcription_101 = []\n",
    "for i in labelling:\n",
    "    start, end = math.floor(i[1]),  math.ceil(i[2])\n",
    "    while ((end - start) >= 8): \n",
    "        transcription = transcribe(wav_fpath, start, 8)\n",
    "        Transcription_101.append([i[0], transcription[0]])\n",
    "        start += 8\n",
    "    if start == end:\n",
    "        continue\n",
    "    transcription = transcribe(wav_fpath, start, int(end - start))\n",
    "    Transcription_101.append([i[0], transcription[0]])\n",
    "Transcription_101"
   ]
  },
  {
   "cell_type": "code",
   "execution_count": 25,
   "id": "606346c4",
   "metadata": {
    "ExecuteTime": {
     "end_time": "2021-11-15T15:51:53.692333Z",
     "start_time": "2021-11-15T15:51:53.405084Z"
    },
    "scrolled": true
   },
   "outputs": [
    {
     "data": {
      "text/plain": [
       "['Speaker 1 --> SO YOU ARE HERE WITH YOUR DAUGHTER WHO IS TWENTY ONE RIGHT AND YOU WERE TWENTY ONE WHEN YOU BECAME A MILLIONAIRE IS THAT RIGHT\\n',\n",
       " 'Speaker 0 --> IS THAT RIGHT ALMOST\\n',\n",
       " 'Speaker 1 --> ALMOST ALL RIGHT SOAROUND THAT AGE OU WO YOU WERE LIKE THE YOUNGEST PERSON TO BECOME A MILLIONAIRE IS THAT RIGHT\\n',\n",
       " 'Speaker 0 --> TATRIGHT PRETI GOT IN TERMS OF MY OWN EARNING IT ON MY\\n',\n",
       " \"Speaker 1 --> EARNING IT ON MY OWN YOW RIGHT O K SO WELL JITS THE MOST IMPORTANT THINGS E SO DID YOU WHEN YOU WERE A KID DID YOU DID YOU CARE ABOUT MONEY OR YOU JUST CARED ABOUT TECHNOLOGY AND THAT'S IT JUST\\n\",\n",
       " \"Speaker 0 --> THAT'S IT JUST HAPPENED MOSTLY I LOVE SOFT WEAR I DO REMEMBER AT THE PRIVATE SCHOOL I WENT TO THER OTHER KIDS WHOSE FAMILIES WERE BETTER OFF LIKE THEY HAD A PORCH OR SOMETHING BUT IT WASN'T THAT THAT BIG OF A DEAL MY THING WAS THAT I JUST LOVED DOING SOFT WHERE I LOVED TIRING PEOPLE AND I WAS AND I WAS\\n\",\n",
       " 'Speaker 1 --> AND I WAS STUNNED WHEN IT ENDED UP BEING SO VALUABLE\\n',\n",
       " \"Speaker 0 --> REALLY YA YOU LENT IT SURPRISED YOU YE BECAUSE I ALWAYS HAD TO BE CAREFUL THAT WE WOULDN'T HIRE MANY PEOPLE I WAS ALWAYS WORRIED CAUSE I WAS PEOPLE WHO WORKED FOR ME WERE OLDER THAN ME AND THEY HAD KIDS AND I O I THOUGHT WHAT IF WE DON'T GET PAID WILL I BE ABLE TO MEET PAYROLL SO I WAS ALWAYS VERY CONSERVATIVE ABOUT THE FINANCES AND THEN WHEN WE DID GO A PUBLIC ASI THIRTY BY\\n\",\n",
       " 'Speaker 1 --> THIRTY BY THEN I THEN I WAS KIND OF STUNNED AT WHAT IT MULTIPLIED OUT TO RIGHT SO WHEN YOU BECAME A MILLION AT WHAT POINT DID YOU\\n',\n",
       " \"Speaker 0 --> DID YOU START RELAXING WERE YOU STILL NERVOUS WHEN YOU BECAME A MILLIONAIRE LIKE I GOT O WATCH THIS I WELL I ALWAYS WANT TO HAVE ENOUGH MONEY BANK SO THAT EVEN IF OUR CUSTOMERS SHOULDN'T PAY US FOR HERE WE COULD STILL AH KEEP PAINT EVERYBODY AND DO THE ARND SAY I STILL VIEWED AS CONSERVATIVE A\\n\",\n",
       " \"Speaker 1 --> YOU KNOW THERE I DON'T HAVE THAT MANY THINGS THAT ARE EXTRAVAGANT TASTES O I DIDN'T CHANGE\\n\",\n",
       " \"Speaker 0 --> DIDN'T CHANGE TOO MUCH SO NOTHING REALY CHANGED O YOU DIDN'T SAY OH I'M GOING TO BUY A PORTION BY A PORTH I DID OH GORII OP THAT WAS THAT WAS AN INDULGENCE AND A THEN EVENTUALLY MY\\n\"]"
      ]
     },
     "execution_count": 25,
     "metadata": {},
     "output_type": "execute_result"
    }
   ],
   "source": [
    "Transcription = []\n",
    "i = 0\n",
    "while i < (len(Transcription_101) - 1):\n",
    "    trans = Transcription_101[i][1]\n",
    "    while (i < (len(Transcription_101) - 1)) and (Transcription_101[i+1][0] == Transcription_101[i][0]):\n",
    "        trans += \" \" + Transcription_101[i+1][1]\n",
    "        i += 1\n",
    "    Transcription.append(f\"Speaker {Transcription_101[i][0]} --> {trans}\\n\")\n",
    "    i += 1\n",
    "Transcription"
   ]
  },
  {
   "cell_type": "code",
   "execution_count": 26,
   "id": "c7903100",
   "metadata": {
    "ExecuteTime": {
     "end_time": "2021-11-15T15:51:54.329293Z",
     "start_time": "2021-11-15T15:51:53.871836Z"
    }
   },
   "outputs": [],
   "source": [
    "path = \"E:/College Stuff/Semester 7/Final Year Project/Review 3/transcription.txt\"\n",
    "file = open(path,\"w+\")\n",
    "file.writelines(Transcription)\n",
    "file.close()"
   ]
  },
  {
   "cell_type": "code",
   "execution_count": 42,
   "id": "5e66679b",
   "metadata": {
    "ExecuteTime": {
     "end_time": "2021-11-14T19:35:26.305463Z",
     "start_time": "2021-11-14T19:35:26.291500Z"
    }
   },
   "outputs": [],
   "source": [
    "# from punctuator import Punctuator\n",
    "# p = Punctuator('model.pcl')\n",
    "# print(p.punctuate(transcription))\n",
    "# print(p.punctuate(parser.parse(transcription)['result']))"
   ]
  },
  {
   "cell_type": "code",
   "execution_count": null,
   "id": "ff26cc1d",
   "metadata": {
    "ExecuteTime": {
     "end_time": "2021-11-14T18:59:56.298000Z",
     "start_time": "2021-11-14T18:57:44.667810Z"
    }
   },
   "outputs": [],
   "source": []
  },
  {
   "cell_type": "code",
   "execution_count": null,
   "id": "74eb9a54",
   "metadata": {
    "ExecuteTime": {
     "end_time": "2021-11-14T19:15:12.281697Z",
     "start_time": "2021-11-14T19:03:43.322406Z"
    }
   },
   "outputs": [],
   "source": []
  },
  {
   "cell_type": "code",
   "execution_count": null,
   "id": "cec87c84",
   "metadata": {},
   "outputs": [],
   "source": []
  }
 ],
 "metadata": {
  "kernelspec": {
   "display_name": "Python 3",
   "language": "python",
   "name": "python3"
  },
  "language_info": {
   "codemirror_mode": {
    "name": "ipython",
    "version": 3
   },
   "file_extension": ".py",
   "mimetype": "text/x-python",
   "name": "python",
   "nbconvert_exporter": "python",
   "pygments_lexer": "ipython3",
   "version": "3.8.8"
  },
  "toc": {
   "base_numbering": 1,
   "nav_menu": {},
   "number_sections": true,
   "sideBar": true,
   "skip_h1_title": false,
   "title_cell": "Table of Contents",
   "title_sidebar": "Contents",
   "toc_cell": false,
   "toc_position": {},
   "toc_section_display": true,
   "toc_window_display": false
  },
  "varInspector": {
   "cols": {
    "lenName": 16,
    "lenType": 16,
    "lenVar": 40
   },
   "kernels_config": {
    "python": {
     "delete_cmd_postfix": "",
     "delete_cmd_prefix": "del ",
     "library": "var_list.py",
     "varRefreshCmd": "print(var_dic_list())"
    },
    "r": {
     "delete_cmd_postfix": ") ",
     "delete_cmd_prefix": "rm(",
     "library": "var_list.r",
     "varRefreshCmd": "cat(var_dic_list()) "
    }
   },
   "types_to_exclude": [
    "module",
    "function",
    "builtin_function_or_method",
    "instance",
    "_Feature"
   ],
   "window_display": false
  }
 },
 "nbformat": 4,
 "nbformat_minor": 5
}
